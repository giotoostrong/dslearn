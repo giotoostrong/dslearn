{
 "cells": [
  {
   "cell_type": "markdown",
   "id": "0692ab41-a950-4dc7-a300-c0cb8cb445eb",
   "metadata": {},
   "source": [
    "# Peer Assignment Tools for Data Science"
   ]
  },
  {
   "cell_type": "markdown",
   "id": "a713c85f-a7c1-4569-820b-49eee2f2b92b",
   "metadata": {
    "tags": []
   },
   "source": [
    "## My name is Gio and I want to learn more about Data Science"
   ]
  },
  {
   "cell_type": "markdown",
   "id": "da6260aa-a91a-4463-aa2e-7b3ca6462e10",
   "metadata": {},
   "source": [
    "### Data Science Languages\n",
    "\n",
    "- Python\n",
    "- R\n",
    "- Scala \n",
    "- Julia \n",
    "- SQL \n",
    "- JavaScript\n",
    "- Matlab\n",
    "- C/C++\n"
   ]
  },
  {
   "cell_type": "markdown",
   "id": "a2c06bb8-0c7c-4ce8-8667-ddbf55472f80",
   "metadata": {},
   "source": [
    "### Data Science Libraries\n",
    "\n",
    "- NumPy \n",
    "- Pandas\n",
    "- Matplotlib\n",
    "- Scikit Learn\n",
    "- TensorFlow\n",
    "- PyTorch\n",
    "- Keras\n",
    "- SciPy\n",
    "- XG Boost"
   ]
  },
  {
   "cell_type": "markdown",
   "id": "9ae37e84-9a8f-4ef5-ae5d-ebc45391c851",
   "metadata": {},
   "source": [
    "### Data Science Tools in Table\n",
    "\n",
    "| Tool | Language(s) |\n",
    "|:-------|:---------:|\n",
    "|Jupyter|Python, R, Julia, Scala, and more|\n",
    "|RStudio|R|\n",
    "|Visual Studio Code|Python, R, and More|\n",
    "\n"
   ]
  },
  {
   "cell_type": "markdown",
   "id": "881a3442-bab2-453e-9357-80f1aabb164b",
   "metadata": {},
   "source": [
    "###Arithmetic Expression Examples\n",
    "\n",
    "- Addition\n",
    "1 + 1\n",
    "- Subtraction\n",
    "2 - 1\n",
    "- Multiplication\n",
    "2 * 2\n",
    "- Division\n",
    "2/5\n",
    "- Exponentiation\n",
    "5 ** 3\n",
    "- Modulo\n",
    "15%4\n",
    "- Int Division\n",
    "20//6"
   ]
  },
  {
   "cell_type": "code",
   "execution_count": 10,
   "id": "386a110b-46cc-490b-b9ff-c8f0b64983df",
   "metadata": {},
   "outputs": [
    {
     "name": "stdout",
     "output_type": "stream",
     "text": [
      "2 4\n"
     ]
    }
   ],
   "source": [
    "# Multiply and Add numbers\n",
    "\n",
    "x = 1+1\n",
    "y = 2*2\n",
    "print (x, y)"
   ]
  },
  {
   "cell_type": "code",
   "execution_count": 16,
   "id": "f3cad7f0-2be6-45ef-9862-cf174d21c107",
   "metadata": {},
   "outputs": [
    {
     "name": "stdout",
     "output_type": "stream",
     "text": [
      "600.0\n"
     ]
    }
   ],
   "source": [
    "# Convert mins to hours\n",
    "\n",
    "minutes = 36000\n",
    "hours = minutes/60\n",
    "print (hours)"
   ]
  },
  {
   "cell_type": "markdown",
   "id": "aa1fdefc-5db8-42c1-adf3-ecb0f88afaf0",
   "metadata": {},
   "source": [
    "### Objectives\n",
    "\n",
    "Exercise 2 - Create a markdown cell with the title of the notebook. (1 pt)\n",
    "\n",
    "Exercise 3 - Create a markdown cell for an introduction. (1 pt)\n",
    "\n",
    "Exercise 4 - Create a markdown cell to list data science languages. (3 pts)\n",
    "\n",
    "Exercise 5 - Create a markdown cell to list data science libraries. (3 pts)\n",
    "\n",
    "Exercise 6 - Create a markdown cell with a table of Data Science tools. (3 pts)\n",
    "\n",
    "Exercise 7 - Create a markdown cell introducing arithmetic expression examples. (1 pt)\n",
    "\n",
    "Exercise 8 - Create a code cell to multiply and add numbers.(2 pts)\n",
    "\n",
    "Exercise 9 - Create a code cell to convert minutes to hours. (2 pts)\n",
    "\n",
    "Exercise 10 -Insert a markdown cell to list Objectives. (3 pts)\n",
    "\n",
    "Exercise 11 - Create a markdown cell to indicate the Author’s name. (2 pts)\n",
    "\n",
    "Exercise 12 - Share your notebook through GitHub (3 pts)\n",
    "\n",
    "Exercise 13 - Take a screenshot of the first page of the notebook. (1 pt)\n",
    "\n"
   ]
  },
  {
   "cell_type": "markdown",
   "id": "fe7da1d0-79cf-46f8-aff7-8ade3a87c547",
   "metadata": {},
   "source": [
    "Giorgio Bowers"
   ]
  }
 ],
 "metadata": {
  "kernelspec": {
   "display_name": "Python",
   "language": "python",
   "name": "conda-env-python-py"
  },
  "language_info": {
   "codemirror_mode": {
    "name": "ipython",
    "version": 3
   },
   "file_extension": ".py",
   "mimetype": "text/x-python",
   "name": "python",
   "nbconvert_exporter": "python",
   "pygments_lexer": "ipython3",
   "version": "3.7.12"
  }
 },
 "nbformat": 4,
 "nbformat_minor": 5
}
